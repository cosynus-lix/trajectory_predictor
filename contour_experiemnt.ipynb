{
 "cells": [
  {
   "cell_type": "code",
   "execution_count": 3,
   "metadata": {},
   "outputs": [],
   "source": [
    "import cv2\n",
    "from matplotlib import pyplot as plt\n",
    "import numpy as np\n",
    "from skimage.morphology import medial_axis, skeletonize\n",
    "from fil_finder import FilFinder2D\n",
    "import astropy.units as u"
   ]
  },
  {
   "cell_type": "code",
   "execution_count": 143,
   "metadata": {},
   "outputs": [
    {
     "name": "stdout",
     "output_type": "stream",
     "text": [
      "[[0 0 0 0 0 0 0 0 0 0]\n",
      " [0 0 1 1 1 1 1 1 0 0]\n",
      " [0 0 1 0 0 0 0 1 0 0]\n",
      " [0 0 1 0 0 0 0 1 0 0]\n",
      " [0 0 1 0 0 0 0 1 0 0]\n",
      " [0 0 1 0 0 0 0 1 0 0]\n",
      " [0 0 1 0 0 0 0 1 0 0]\n",
      " [0 0 1 0 0 0 0 1 0 0]\n",
      " [0 0 1 1 1 1 1 1 0 0]\n",
      " [0 0 0 0 0 0 0 0 0 0]]\n",
      "[[False False False False False False False False False False]\n",
      " [False False False  True  True  True  True False False False]\n",
      " [False False  True False False False False  True False False]\n",
      " [False False  True False False False False  True False False]\n",
      " [False False  True False False False False  True False False]\n",
      " [False False  True False False False False  True False False]\n",
      " [False False  True False False False False  True False False]\n",
      " [False False  True False False False False  True False False]\n",
      " [False False False  True  True  True  True False False False]\n",
      " [False False False False False False False False False False]] [[0. 0. 0. 0. 0. 0. 0. 0. 0. 0.]\n",
      " [0. 0. 1. 1. 1. 1. 1. 1. 0. 0.]\n",
      " [0. 0. 1. 0. 0. 0. 0. 1. 0. 0.]\n",
      " [0. 0. 1. 0. 0. 0. 0. 1. 0. 0.]\n",
      " [0. 0. 1. 0. 0. 0. 0. 1. 0. 0.]\n",
      " [0. 0. 1. 0. 0. 0. 0. 1. 0. 0.]\n",
      " [0. 0. 1. 0. 0. 0. 0. 1. 0. 0.]\n",
      " [0. 0. 1. 0. 0. 0. 0. 1. 0. 0.]\n",
      " [0. 0. 1. 1. 1. 1. 1. 1. 0. 0.]\n",
      " [0. 0. 0. 0. 0. 0. 0. 0. 0. 0.]]\n"
     ]
    }
   ],
   "source": [
    "square = np.zeros((10, 10), dtype=np.uint8)\n",
    "square[1:-1, 2:-2] = 1\n",
    "square[2:-2, 3:-3] = 0\n",
    "print(square)\n",
    "med, dist = medial_axis(square, return_distance=True)\n",
    "print(med, dist)"
   ]
  },
  {
   "cell_type": "code",
   "execution_count": 212,
   "metadata": {},
   "outputs": [
    {
     "name": "stderr",
     "output_type": "stream",
     "text": [
      "/Users/lix/opt/miniconda3/envs/lix/lib/python3.8/site-packages/fil_finder/filfinder2D.py:142: UserWarning: No beam width given. Using 0 pixels.\n",
      "  warnings.warn(\"No beam width given. Using 0 pixels.\")\n"
     ]
    },
    {
     "data": {
      "image/png": "[encoded data removed]",
      "text/plain": [
       "<Figure size 432x288 with 1 Axes>"
      ]
     },
     "metadata": {
      "needs_background": "light"
     },
     "output_type": "display_data"
    },
    {
     "name": "stdout",
     "output_type": "stream",
     "text": [
      "[0 1]\n"
     ]
    },
    {
     "name": "stderr",
     "output_type": "stream",
     "text": [
      "/Users/lix/opt/miniconda3/envs/lix/lib/python3.8/site-packages/fil_finder/filament.py:326: UserWarning: Graph pruning reached max iterations.\n",
      "  warnings.warn(\"Graph pruning reached max iterations.\")\n"
     ]
    },
    {
     "name": "stdout",
     "output_type": "stream",
     "text": [
      "[[0. 0. 0. ... 0. 0. 0.]\n",
      " [0. 0. 0. ... 0. 0. 0.]\n",
      " [0. 0. 0. ... 0. 0. 0.]\n",
      " ...\n",
      " [0. 0. 0. ... 0. 0. 0.]\n",
      " [0. 0. 0. ... 0. 0. 0.]\n",
      " [0. 0. 0. ... 0. 0. 0.]]\n"
     ]
    },
    {
     "data": {
      "image/png": "[encoded data removed]",
      "text/plain": [
       "<Figure size 432x288 with 1 Axes>"
      ]
     },
     "metadata": {
      "needs_background": "light"
     },
     "output_type": "display_data"
    }
   ],
   "source": [
    "img = cv2.imread('./maps/gmapping/new_map.pgm', cv2.IMREAD_GRAYSCALE)\n",
    "\n",
    "# fill(img, 0, 255)\n",
    "thresh = 205\n",
    "ret,thresh_img = cv2.threshold(img, thresh, 255, cv2.THRESH_BINARY)\n",
    "# plt.imshow(thresh_img, cmap='gray')\n",
    "can = cv2.Canny(thresh_img, 30, 200)\n",
    "thresh_img = np.where(thresh_img == 255, 1, 0)\n",
    "# plt.imshow(thresh_img)\n",
    "fil = FilFinder2D(thresh_img, mask=thresh_img)\n",
    "fil.preprocess_image(flatten_percent=100)\n",
    "# plt.subplot(121)\n",
    "# plt.imshow(fil.image.value, origin='lower')\n",
    "# plt.title(\"Image\")\n",
    "# plt.subplot(122)\n",
    "# plt.imshow(fil.flat_img.value, origin='lower')\n",
    "# plt.title(\"Flattened Image\")\n",
    "# plt.tight_layout()\n",
    "fil.medskel(verbose=True)\n",
    "print(np.unique(thresh_img))\n",
    "\n",
    "axis = fil.skeleton\n",
    "# print(can)\n",
    "axis = axis*255+can\n",
    "axis_cut = axis[900:1500, 750:1400]\n",
    "# axis_cut = thresh_img\n",
    "plt.imshow(axis_cut)\n",
    "\n",
    "# Save image wiht opencv\n",
    "fil.analyze_skeletons(skel_thresh=u.pix*1, prune_criteria='length')\n",
    "cv2.imwrite('./test.png', axis_cut)\n",
    "\n",
    "plt.contour(fil.skeleton_longpath, colors='r')\n",
    "plt.imshow(fil.skeleton, origin='lower')\n",
    "# fil.analyze_skeletons(branch_thresh=5 * u.pix, prune_criteria='length')\n",
    "\n",
    "# plt.imshow(fil.skeleton, origin='lower')\n",
    "# plt.contour(fil.skeleton_longpath, colors='r')\n",
    "# print(fil.skeleton_longpath)"
   ]
  },
  {
   "cell_type": "code",
   "execution_count": 19,
   "metadata": {},
   "outputs": [
    {
     "name": "stdout",
     "output_type": "stream",
     "text": [
      "[0 1]\n"
     ]
    },
    {
     "data": {
      "text/plain": [
       "True"
      ]
     },
     "execution_count": 19,
     "metadata": {},
     "output_type": "execute_result"
    },
    {
     "data": {
      "image/png": "[encoded data removed]",
      "text/plain": [
       "<Figure size 432x288 with 1 Axes>"
      ]
     },
     "metadata": {
      "needs_background": "light"
     },
     "output_type": "display_data"
    }
   ],
   "source": [
    "img = cv2.imread('./maps/gmapping/new_map.pgm', cv2.IMREAD_GRAYSCALE)\n",
    "\n",
    "# fill(img, 0, 255)\n",
    "thresh = 205\n",
    "ret,thresh_img = cv2.threshold(img, thresh, 255, cv2.THRESH_BINARY)\n",
    "plt.imshow(thresh_img, cmap='gray')\n",
    "can = cv2.Canny(thresh_img, 30, 200)\n",
    "thresh_img = np.where(thresh_img == 255, 1, 0)\n",
    "# plt.imshow(thresh_img)\n",
    "print(np.unique(thresh_img))\n",
    "\n",
    "axis = skeletonize(thresh_img)\n",
    "# axis = medial_axis(thresh_img)\n",
    "# print(can)\n",
    "# axis = axis*255+can\n",
    "axis = axis*255+can\n",
    "axis_cut = axis[900:1550, 750:1400]\n",
    "# axis_cut = thresh_img\n",
    "plt.imshow(axis_cut)\n",
    "\n",
    "# Save image wiht opencv\n",
    "cv2.imwrite('./test.png', axis_cut)"
   ]
  },
  {
   "cell_type": "code",
   "execution_count": 7,
   "metadata": {},
   "outputs": [],
   "source": [
    "from skimage.graph import pixel_graph\n",
    "test_image = np.array([[0, 0, 0, 0, 0],\n",
    "                       [0, 1, 1, 1, 0],\n",
    "                       [0, 1, 0, 1, 1],\n",
    "                       [0, 1, 1, 1, 0],\n",
    "                       [0, 1, 1, 0, 0]])"
   ]
  },
  {
   "cell_type": "code",
   "execution_count": 147,
   "metadata": {},
   "outputs": [
    {
     "name": "stdout",
     "output_type": "stream",
     "text": [
      "[ 6  7  8 11 13 14 16 17 18 21 22]\n",
      "[1 3]\n"
     ]
    },
    {
     "ename": "NameError",
     "evalue": "name 'fasdf' is not defined",
     "output_type": "error",
     "traceback": [
      "\u001b[0;31m---------------------------------------------------------------------------\u001b[0m",
      "\u001b[0;31mNameError\u001b[0m                                 Traceback (most recent call last)",
      "\u001b[1;32m/Users/lix/Documents/code/trajectory_predictor/contour_experiemnt.ipynb Cell 6'\u001b[0m in \u001b[0;36m<cell line: 5>\u001b[0;34m()\u001b[0m\n\u001b[1;32m      <a href='vscode-notebook-cell:/Users/lix/Documents/code/trajectory_predictor/contour_experiemnt.ipynb#ch0000003?line=2'>3</a>\u001b[0m \u001b[39mprint\u001b[39m(nodes)\n\u001b[1;32m      <a href='vscode-notebook-cell:/Users/lix/Documents/code/trajectory_predictor/contour_experiemnt.ipynb#ch0000003?line=3'>4</a>\u001b[0m \u001b[39mprint\u001b[39m(graph[\u001b[39m0\u001b[39m,:]\u001b[39m.\u001b[39mnonzero()[\u001b[39m1\u001b[39m])\n\u001b[0;32m----> <a href='vscode-notebook-cell:/Users/lix/Documents/code/trajectory_predictor/contour_experiemnt.ipynb#ch0000003?line=4'>5</a>\u001b[0m fasdf\n\u001b[1;32m      <a href='vscode-notebook-cell:/Users/lix/Documents/code/trajectory_predictor/contour_experiemnt.ipynb#ch0000003?line=5'>6</a>\u001b[0m adj \u001b[39m=\u001b[39m graph[\u001b[39m7\u001b[39m,:]\u001b[39m.\u001b[39mnonzero()[\u001b[39m1\u001b[39m]\n\u001b[1;32m      <a href='vscode-notebook-cell:/Users/lix/Documents/code/trajectory_predictor/contour_experiemnt.ipynb#ch0000003?line=6'>7</a>\u001b[0m \u001b[39mprint\u001b[39m(graph\u001b[39m.\u001b[39mtodense()[\u001b[39m7\u001b[39m])\n",
      "\u001b[0;31mNameError\u001b[0m: name 'fasdf' is not defined"
     ]
    }
   ],
   "source": [
    "binary_mask = test_image > 0\n",
    "graph, nodes = pixel_graph(binary_mask, mask=None, edge_function=None, connectivity=2)\n",
    "print(nodes)\n",
    "print(graph[0,:].nonzero()[1])\n",
    "fasdf\n",
    "adj = graph[7,:].nonzero()[1]\n",
    "print(graph.todense()[7])\n",
    "# print(adj.astype(bool)[0])\n",
    "indexes = nodes[adj]\n",
    "# print(graph[,:])\n",
    "# print(graph.__dict__)"
   ]
  },
  {
   "cell_type": "code",
   "execution_count": 152,
   "metadata": {},
   "outputs": [
    {
     "name": "stdout",
     "output_type": "stream",
     "text": [
      "[[ 0  1  2  3  4]\n",
      " [ 5  6  7  8  9]\n",
      " [10 11 12 13 14]\n",
      " [15 16 17 18 19]\n",
      " [20 21 22 23 24]]\n"
     ]
    }
   ],
   "source": [
    "print(np.array([[j +5*i for j in range(5)] for i in range(5)]))"
   ]
  },
  {
   "cell_type": "code",
   "execution_count": 8,
   "metadata": {},
   "outputs": [],
   "source": [
    "import queue\n",
    "\n",
    "class Graph:\n",
    "    def __init__(self, image):\n",
    "        binary_mask = image > 0\n",
    "        self.graph, self.nodes = pixel_graph(binary_mask, mask=None, edge_function=None, connectivity=2)\n",
    "\n",
    "    def adj(self, pixel_index):\n",
    "        if pixel_index not in self.nodes:\n",
    "            return np.array([])\n",
    "        index = np.where(self.nodes == pixel_index)[0]\n",
    "        adj_nonzero = self.graph[index,:].nonzero()[1]\n",
    "        return self.nodes[adj_nonzero]\n",
    "\n",
    "    def dist(self, pixel_index1, pixel_index2):\n",
    "        if pixel_index1 not in self.nodes or pixel_index2 not in self.nodes:\n",
    "            return np.inf\n",
    "        index1 = np.where(self.nodes == pixel_index1)[0]\n",
    "        index2 = np.where(self.nodes == pixel_index2)[0]\n",
    "        return self.graph[index1, index2].item()\n",
    "\n",
    "    def get_nonzero_node(self):\n",
    "        return self.nodes[0]\n",
    "\n",
    "graph = Graph(axis_cut)\n",
    "\n",
    "parents = {}\n",
    "q = queue.Queue()\n",
    "first = graph.get_nonzero_node()\n",
    "q.put(first)\n",
    "visited = set({first})\n",
    "missing_links = []\n",
    "\n",
    "while not q.empty():\n",
    "    node = q.get()\n",
    "\n",
    "    for adj_node in graph.adj(node):\n",
    "        if adj_node not in visited:\n",
    "            parents[adj_node] = (node, adj_node, graph.dist(node, adj_node))\n",
    "            q.put(adj_node)\n",
    "            visited.add(adj_node)\n",
    "        else:\n",
    "            missing_links.append((node, adj_node, graph.dist(node, adj_node)))\n",
    "\n",
    "# print(parents)\n",
    "# print(missing_links)\n",
    "\n"
   ]
  },
  {
   "cell_type": "code",
   "execution_count": 10,
   "metadata": {},
   "outputs": [],
   "source": [
    "import networkx as nx\n",
    "\n",
    "G = nx.Graph()\n",
    "G.add_weighted_edges_from(parents.values())\n",
    "large_ring_link = None\n",
    "large_path = None\n",
    "total_weight = None\n",
    "thresh = 1500\n",
    "weights = []\n",
    "for missing_link in missing_links:\n",
    "    weight, path = nx.single_source_dijkstra(G, missing_link[0], missing_link[1])\n",
    "    ring_weight = weight + missing_link[2]\n",
    "    weights.append((ring_weight, missing_link))\n",
    "\n",
    "    # if (total_weight == None and ring_weight > thresh) or (total_weight != None and ring_weight < total_weight and ring_weight > thresh):\n",
    "    #     total_weight = ring_weight\n",
    "    #     large_path = path\n",
    "    #     large_ring_link = missing_link\n",
    "# print()\n",
    "\n",
    "def image_from_pixel_coords(img, coords):\n",
    "    image = np.zeros_like(img)\n",
    "    _, j_size = img.shape\n",
    "    print(img.shape, j_size)\n",
    "    for coor in coords:\n",
    "        i, j = coor//j_size, coor%j_size\n",
    "        if i < image.shape[0] and j < image.shape[1]:\n",
    "            image[i, j] = 255\n",
    "    return image\n",
    "\n",
    "# path_image = image_from_pixel_coords(axis_cut, large_path)\n",
    "# plt.plot(sorted(weights), 'o')\n",
    "# plt.imshow(path_image)\n",
    "# print(large_path, large_ring_link, total_weight)\n",
    "# nodes = nx.draw_networkx_nodes(G, pos=nx.spring_layout(G), label=parents.keys())\n",
    "# print()\n",
    "# nx.draw(G, with_labels=True)"
   ]
  },
  {
   "cell_type": "code",
   "execution_count": 11,
   "metadata": {},
   "outputs": [
    {
     "name": "stdout",
     "output_type": "stream",
     "text": [
      "(650, 650) 650\n"
     ]
    },
    {
     "data": {
      "text/plain": [
       "<matplotlib.image.AxesImage at 0x7f9304a13c40>"
      ]
     },
     "execution_count": 11,
     "metadata": {},
     "output_type": "execute_result"
    },
    {
     "data": {
      "image/png": "[encoded data removed]",
      "text/plain": [
       "<Figure size 432x288 with 1 Axes>"
      ]
     },
     "metadata": {
      "needs_background": "light"
     },
     "output_type": "display_data"
    }
   ],
   "source": [
    "from sklearn.cluster import KMeans\n",
    "X = np.array([weight for weight, _ in weights])\n",
    "kmeans = KMeans(n_clusters=2).fit(X.reshape(-1,1))\n",
    "first_cluster_selection = kmeans.labels_.astype(bool)\n",
    "second_cluster_selection = ~first_cluster_selection\n",
    "selections = [first_cluster_selection, second_cluster_selection]\n",
    "\n",
    "max_average_selection_index = np.argmax([X[selection].mean() for selection in selections])\n",
    "\n",
    "max_cluster_indexes = np.array(list(range(len(weights))))[first_cluster_selection]\n",
    "trackline_weights_index = max_cluster_indexes[np.argmin(X[max_cluster_indexes])]\n",
    "trackline_weight, trackline_link = weights[trackline_weights_index]\n",
    "\n",
    "weight, path = nx.single_source_dijkstra(G, trackline_link[0], trackline_link[1])\n",
    "\n",
    "path_image = image_from_pixel_coords(axis_cut, path)\n",
    "plt.imshow(path_image)\n",
    "\n",
    "# find cluster with largest mean weight\n"
   ]
  },
  {
   "cell_type": "code",
   "execution_count": 83,
   "metadata": {},
   "outputs": [
    {
     "name": "stdout",
     "output_type": "stream",
     "text": [
      "\n",
      "[205 254]\n",
      "[[[1041  931]]\n",
      "\n",
      " [[1040  932]]\n",
      "\n",
      " [[1039  932]]\n",
      "\n",
      " ...\n",
      "\n",
      " [[1044  931]]\n",
      "\n",
      " [[1043  931]]\n",
      "\n",
      " [[1042  931]]]\n"
     ]
    },
    {
     "name": "stderr",
     "output_type": "stream",
     "text": [
      "/var/folders/v0/xs6thlxx1yndhpmqz70z0jwc0000gp/T/ipykernel_44345/3847815872.py:22: UserWarning: Matplotlib is currently using module://matplotlib_inline.backend_inline, which is a non-GUI backend, so cannot show the figure.\n",
      "  fig.show()\n"
     ]
    },
    {
     "data": {
      "image/png": "[encoded data removed]",
      "text/plain": [
       "<Figure size 720x720 with 1 Axes>"
      ]
     },
     "metadata": {
      "needs_background": "light"
     },
     "output_type": "display_data"
    }
   ],
   "source": [
    "img = cv2.imread('./maps/gmapping/new_map.pgm')\n",
    "# print(img)\n",
    "img = cv2.cvtColor(img, cv2.COLOR_BGR2GRAY)\n",
    "img = np.where(img == 0, 254, img)\n",
    "thresh = 205\n",
    "ret,thresh_img = cv2.threshold(img, thresh, 255, cv2.THRESH_BINARY)\n",
    "print()\n",
    "edged = cv2.Canny(thresh_img, 30, 200)\n",
    "# plt.imshow(edged, cmap='gray')\n",
    "# plt.imshow(img, cmap='gray')\n",
    "print(np.unique(img))\n",
    "contours, hierarchy = cv2.findContours(edged, cv2.RETR_EXTERNAL, cv2.CHAIN_APPROX_NONE)\n",
    "img_contours = np.zeros(img.shape)\n",
    "# draw the contours on the empty image\n",
    "cv2.fillPoly(img_contours, pts=contours,color=(255,255,255))\n",
    "cv2.drawContours(img_contours, contours[9], -1, (255,0,0), 3)\n",
    "print(contours[9])\n",
    "# Create figure size 100x100\n",
    "fig = plt.figure(figsize=(10,10))\n",
    "# Add subplot with images and labels\n",
    "plt.imshow(img_contours)\n",
    "fig.show()\n",
    "# print(contours)\n",
    "# for contour in contours:\n",
    "#     print(len(contour))\n",
    "#     print(contour)\n"
   ]
  },
  {
   "cell_type": "code",
   "execution_count": 17,
   "metadata": {},
   "outputs": [
    {
     "name": "stdout",
     "output_type": "stream",
     "text": [
      "(1984, 1984) 1984\n"
     ]
    },
    {
     "data": {
      "text/plain": [
       "True"
      ]
     },
     "execution_count": 17,
     "metadata": {},
     "output_type": "execute_result"
    },
    {
     "data": {
      "image/png": "[encoded data removed]",
      "text/plain": [
       "<Figure size 432x288 with 1 Axes>"
      ]
     },
     "metadata": {
      "needs_background": "light"
     },
     "output_type": "display_data"
    }
   ],
   "source": [
    "# import importlib\n",
    "# import trajectory_predictor\n",
    "# importlib.reload(trajectory_predictor)\n",
    "from trajectory_predictor.utils.mapping import image_to_centerline\n",
    "\n",
    "centerline = image_to_centerline('./maps/gmapping/new_map.pgm')\n",
    "\n",
    "# path_image = image_from_pixel_coords(axis, centerline)\n",
    "# plt.imshow(path_image)\n",
    "# print(centerline)\n",
    "path_image = image_from_pixel_coords(axis, centerline)\n",
    "\n",
    "plt.imshow((path_image+can)[900:1550, 750:1400])\n",
    "cv2.imwrite('./test3.png', (path_image+can)[900:1550, 750:1400])"
   ]
  }
 ],
 "metadata": {
  "kernelspec": {
   "display_name": "Python 3.8.13 ('lix')",
   "language": "python",
   "name": "python3"
  },
  "language_info": {
   "codemirror_mode": {
    "name": "ipython",
    "version": 3
   },
   "file_extension": ".py",
   "mimetype": "text/x-python",
   "name": "python",
   "nbconvert_exporter": "python",
   "pygments_lexer": "ipython3",
   "version": "3.8.13"
  },
  "orig_nbformat": 4,
  "vscode": {
   "interpreter": {
    "hash": "cf0bc47ab3e19869a565b1ba7b7f131fb5719f0f53183c217dfb606e854dfccd"
   }
  }
 },
 "nbformat": 4,
 "nbformat_minor": 2
}
