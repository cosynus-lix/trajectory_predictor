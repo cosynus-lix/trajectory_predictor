{
 "cells": [
  {
   "cell_type": "code",
   "execution_count": 4,
   "metadata": {},
   "outputs": [
    {
     "name": "stdout",
     "output_type": "stream",
     "text": [
      "[1 6] 1.4142135623730951\n"
     ]
    },
    {
     "ename": "NameError",
     "evalue": "name 'fsadf' is not defined",
     "output_type": "error",
     "traceback": [
      "\u001b[0;31m---------------------------------------------------------------------------\u001b[0m",
      "\u001b[0;31mNameError\u001b[0m                                 Traceback (most recent call last)",
      "\u001b[1;32m/Users/lix/Documents/code/trajectory_predictor/process_raw_img.ipynb Cell 1'\u001b[0m in \u001b[0;36m<cell line: 13>\u001b[0;34m()\u001b[0m\n\u001b[1;32m     <a href='vscode-notebook-cell:/Users/lix/Documents/code/trajectory_predictor/process_raw_img.ipynb#ch0000000?line=9'>10</a>\u001b[0m pg \u001b[39m=\u001b[39m PixelGraph(binary_mask)\n\u001b[1;32m     <a href='vscode-notebook-cell:/Users/lix/Documents/code/trajectory_predictor/process_raw_img.ipynb#ch0000000?line=11'>12</a>\u001b[0m \u001b[39mprint\u001b[39m(pg\u001b[39m.\u001b[39madj(\u001b[39m0\u001b[39m), pg\u001b[39m.\u001b[39mdist(\u001b[39m0\u001b[39m, \u001b[39m6\u001b[39m))\n\u001b[0;32m---> <a href='vscode-notebook-cell:/Users/lix/Documents/code/trajectory_predictor/process_raw_img.ipynb#ch0000000?line=12'>13</a>\u001b[0m fsadf\n\u001b[1;32m     <a href='vscode-notebook-cell:/Users/lix/Documents/code/trajectory_predictor/process_raw_img.ipynb#ch0000000?line=13'>14</a>\u001b[0m \u001b[39mprint\u001b[39m(np\u001b[39m.\u001b[39munravel_index(\u001b[39m6\u001b[39m, binary_mask\u001b[39m.\u001b[39mshape))\n\u001b[1;32m     <a href='vscode-notebook-cell:/Users/lix/Documents/code/trajectory_predictor/process_raw_img.ipynb#ch0000000?line=14'>15</a>\u001b[0m center \u001b[39m=\u001b[39m (\u001b[39m1\u001b[39m, \u001b[39m1\u001b[39m)\n",
      "\u001b[0;31mNameError\u001b[0m: name 'fsadf' is not defined"
     ]
    }
   ],
   "source": [
    "from skimage.graph import pixel_graph\n",
    "from trajectory_predictor.utils.PixelGraph import PixelGraph\n",
    "import numpy as np\n",
    "\n",
    "binary_mask = np.array([[1, 1, 1, 0, 0],\n",
    "                       [0, 1, 0, 1, 0],\n",
    "                       [0, 1, 0, 1, 0],\n",
    "                       [0, 1, 1, 1, 0],\n",
    "                       [0, 0, 0, 0, 0]])\n",
    "pg = PixelGraph(binary_mask)\n",
    "\n",
    "print(pg.adj(0), pg.dist(0, 6))\n",
    "print(np.unravel_index(6, binary_mask.shape))\n",
    "center = (1, 1)\n",
    "radius = 2\n",
    "lower_i = max(center[0] - radius, 0)\n",
    "upper_i = min(center[0] + radius, binary_mask.shape[0])\n",
    "lower_j = max(center[1] - radius, 0)\n",
    "upper_j = min(center[1] + radius, binary_mask.shape[1])\n",
    "\n",
    "selection = binary_mask[lower_i:upper_i, lower_j:upper_j]\n",
    "indexes = np.where(selection)\n",
    "original_index = np.ravel_multi_index((lower_i + indexes[0], lower_j + indexes[1]), binary_mask.shape)\n",
    "print(original_index, selection)\n",
    "\n",
    "nodes = np.ravel_multi_index(np.where(binary_mask > 0), binary_mask.shape)\n",
    "print(nodes)\n",
    "\n",
    "# pg = PixelGraph(binary_mask)\n",
    "# graph, nodes = pixel_graph(binary_mask > 0, mask=None, edge_function=None, connectivity=10)\n",
    "# pg.graph = graph\n",
    "# pg.nodes = nodes\n",
    "\n",
    "# pg.adj(12)\n",
    "np.unravel_index(24, (5, 5))"
   ]
  },
  {
   "cell_type": "code",
   "execution_count": 1,
   "metadata": {},
   "outputs": [],
   "source": [
    "import cv2\n",
    "import numpy as np\n",
    "import matplotlib.pyplot as plt\n",
    "from trajectory_predictor.utils.PixelGraph import PixelGraph\n",
    "# Doing pretreatment\n",
    "\n",
    "# Load map image\n",
    "map_path = './maps/real_map/better_map.pgm'\n",
    "img = cv2.imread(map_path, cv2.IMREAD_GRAYSCALE)\n",
    "crop = img[850:1100,800:1000]"
   ]
  },
  {
   "cell_type": "code",
   "execution_count": 47,
   "metadata": {},
   "outputs": [
    {
     "name": "stdout",
     "output_type": "stream",
     "text": [
      "The autoreload extension is already loaded. To reload it, use:\n",
      "  %reload_ext autoreload\n"
     ]
    },
    {
     "data": {
      "text/plain": [
       "<matplotlib.image.AxesImage at 0x7fe79c1ec3d0>"
      ]
     },
     "execution_count": 47,
     "metadata": {},
     "output_type": "execute_result"
    },
    {
     "data": {
      "image/png": "[encoded data removed]",
      "text/plain": [
       "<Figure size 432x288 with 1 Axes>"
      ]
     },
     "metadata": {
      "needs_background": "light"
     },
     "output_type": "display_data"
    }
   ],
   "source": [
    "%load_ext autoreload\n",
    "%autoreload 2\n",
    "from trajectory_predictor.utils.mapping import filter_track_on_image\n",
    "\n",
    "img = filter_track_on_image('./maps/real_map/better_map')\n",
    "plt.imshow(img, cmap='gray')"
   ]
  },
  {
   "cell_type": "code",
   "execution_count": 3,
   "metadata": {},
   "outputs": [
    {
     "name": "stdout",
     "output_type": "stream",
     "text": [
      "The autoreload extension is already loaded. To reload it, use:\n",
      "  %reload_ext autoreload\n",
      "[ 98.0100092   97.65371803  97.65371803 ... 186.24465192 185.37149453\n",
      " 185.16428889]\n"
     ]
    },
    {
     "data": {
      "image/png": "[encoded data removed]",
      "text/plain": [
       "<Figure size 432x288 with 1 Axes>"
      ]
     },
     "metadata": {
      "needs_background": "light"
     },
     "output_type": "display_data"
    }
   ],
   "source": [
    "%load_ext autoreload\n",
    "%autoreload 2\n",
    "from trajectory_predictor.utils.mapping import pixel_graph_to_spanning_tree_and_missing_links, missing_links_and_tree_to_centerline\n",
    "\n",
    "graph = PixelGraph(crop == 0, radius=3)\n",
    "pixels, links = pixel_graph_to_spanning_tree_and_missing_links(graph)\n",
    "path = missing_links_and_tree_to_centerline(links, pixels)\n",
    "nodes = np.array(path)\n",
    "# nodes = np.array(pixels.nodes)\n",
    "unravelled_nodes = np.unravel_index(nodes, crop.shape)\n",
    "selected_nodes = np.zeros_like(crop)\n",
    "selected_nodes[unravelled_nodes] = 255\n",
    "crop_weak = crop.copy()*0.3 + selected_nodes*0.7\n",
    "# cv2.fillPoly(crop_weak, [path], (255, 255, 255))\n",
    "# plt.imshow(crop_weak, cmap='gray')"
   ]
  },
  {
   "cell_type": "code",
   "execution_count": 41,
   "metadata": {},
   "outputs": [
    {
     "name": "stdout",
     "output_type": "stream",
     "text": [
      "1160\n",
      "1162\n"
     ]
    },
    {
     "ename": "KeyboardInterrupt",
     "evalue": "",
     "output_type": "error",
     "traceback": [
      "\u001b[0;31m---------------------------------------------------------------------------\u001b[0m",
      "\u001b[0;31mKeyboardInterrupt\u001b[0m                         Traceback (most recent call last)",
      "\u001b[1;32m/Users/lix/Documents/code/trajectory_predictor/process_raw_img.ipynb Cell 5'\u001b[0m in \u001b[0;36m<cell line: 8>\u001b[0;34m()\u001b[0m\n\u001b[1;32m     <a href='vscode-notebook-cell:/Users/lix/Documents/code/trajectory_predictor/process_raw_img.ipynb#ch0000004?line=12'>13</a>\u001b[0m     \u001b[39mcontinue\u001b[39;00m\n\u001b[1;32m     <a href='vscode-notebook-cell:/Users/lix/Documents/code/trajectory_predictor/process_raw_img.ipynb#ch0000004?line=13'>14</a>\u001b[0m [visited_nodes\u001b[39m.\u001b[39madd(node) \u001b[39mfor\u001b[39;00m node \u001b[39min\u001b[39;00m pg\u001b[39m.\u001b[39mnodes]\n\u001b[0;32m---> <a href='vscode-notebook-cell:/Users/lix/Documents/code/trajectory_predictor/process_raw_img.ipynb#ch0000004?line=15'>16</a>\u001b[0m path \u001b[39m=\u001b[39m missing_links_and_tree_to_centerline(links, pg)\n\u001b[1;32m     <a href='vscode-notebook-cell:/Users/lix/Documents/code/trajectory_predictor/process_raw_img.ipynb#ch0000004?line=16'>17</a>\u001b[0m \u001b[39mprint\u001b[39m(\u001b[39mlen\u001b[39m(pg\u001b[39m.\u001b[39mnodes))\n\u001b[1;32m     <a href='vscode-notebook-cell:/Users/lix/Documents/code/trajectory_predictor/process_raw_img.ipynb#ch0000004?line=17'>18</a>\u001b[0m paths\u001b[39m.\u001b[39mappend(path)\n",
      "File \u001b[0;32m~/Documents/code/trajectory_predictor/src/trajectory_predictor/utils/mapping.py:85\u001b[0m, in \u001b[0;36mmissing_links_and_tree_to_centerline\u001b[0;34m(missing_links, tree)\u001b[0m\n\u001b[1;32m     83\u001b[0m \u001b[39mfor\u001b[39;00m node \u001b[39min\u001b[39;00m nodes:\n\u001b[1;32m     84\u001b[0m     \u001b[39mif\u001b[39;00m node \u001b[39min\u001b[39;00m visited_nodes:\n\u001b[0;32m---> 85\u001b[0m         \u001b[39mcontinue\u001b[39;00m\n\u001b[1;32m     86\u001b[0m     pg, links \u001b[39m=\u001b[39m pixel_graph_to_spanning_tree_and_missing_links(graph, node)\n\u001b[1;32m     87\u001b[0m     \u001b[39mif\u001b[39;00m \u001b[39mlen\u001b[39m(pg\u001b[39m.\u001b[39mnodes) \u001b[39m<\u001b[39m thresh:\n",
      "File \u001b[0;32m~/opt/miniconda3/envs/lix/lib/python3.8/site-packages/networkx/algorithms/shortest_paths/weighted.py:472\u001b[0m, in \u001b[0;36msingle_source_dijkstra\u001b[0;34m(G, source, target, cutoff, weight)\u001b[0m\n\u001b[1;32m    376\u001b[0m \u001b[39mdef\u001b[39;00m \u001b[39msingle_source_dijkstra\u001b[39m(G, source, target\u001b[39m=\u001b[39m\u001b[39mNone\u001b[39;00m, cutoff\u001b[39m=\u001b[39m\u001b[39mNone\u001b[39;00m, weight\u001b[39m=\u001b[39m\u001b[39m\"\u001b[39m\u001b[39mweight\u001b[39m\u001b[39m\"\u001b[39m):\n\u001b[1;32m    377\u001b[0m     \u001b[39m\"\"\"Find shortest weighted paths and lengths from a source node.\u001b[39;00m\n\u001b[1;32m    378\u001b[0m \n\u001b[1;32m    379\u001b[0m \u001b[39m    Compute the shortest path length between source and all other\u001b[39;00m\n\u001b[0;32m   (...)\u001b[0m\n\u001b[1;32m    470\u001b[0m \u001b[39m    single_source_bellman_ford\u001b[39;00m\n\u001b[1;32m    471\u001b[0m \u001b[39m    \"\"\"\u001b[39;00m\n\u001b[0;32m--> 472\u001b[0m     \u001b[39mreturn\u001b[39;00m multi_source_dijkstra(\n\u001b[1;32m    473\u001b[0m         G, {source}, cutoff\u001b[39m=\u001b[39;49mcutoff, target\u001b[39m=\u001b[39;49mtarget, weight\u001b[39m=\u001b[39;49mweight\n\u001b[1;32m    474\u001b[0m     )\n",
      "File \u001b[0;32m~/opt/miniconda3/envs/lix/lib/python3.8/site-packages/networkx/algorithms/shortest_paths/weighted.py:739\u001b[0m, in \u001b[0;36mmulti_source_dijkstra\u001b[0;34m(G, sources, target, cutoff, weight)\u001b[0m\n\u001b[1;32m    737\u001b[0m weight \u001b[39m=\u001b[39m _weight_function(G, weight)\n\u001b[1;32m    738\u001b[0m paths \u001b[39m=\u001b[39m {source: [source] \u001b[39mfor\u001b[39;00m source \u001b[39min\u001b[39;00m sources}  \u001b[39m# dictionary of paths\u001b[39;00m\n\u001b[0;32m--> 739\u001b[0m dist \u001b[39m=\u001b[39m _dijkstra_multisource(\n\u001b[1;32m    740\u001b[0m     G, sources, weight, paths\u001b[39m=\u001b[39;49mpaths, cutoff\u001b[39m=\u001b[39;49mcutoff, target\u001b[39m=\u001b[39;49mtarget\n\u001b[1;32m    741\u001b[0m )\n\u001b[1;32m    742\u001b[0m \u001b[39mif\u001b[39;00m target \u001b[39mis\u001b[39;00m \u001b[39mNone\u001b[39;00m:\n\u001b[1;32m    743\u001b[0m     \u001b[39mreturn\u001b[39;00m (dist, paths)\n",
      "File \u001b[0;32m~/opt/miniconda3/envs/lix/lib/python3.8/site-packages/networkx/algorithms/shortest_paths/weighted.py:854\u001b[0m, in \u001b[0;36m_dijkstra_multisource\u001b[0;34m(G, sources, weight, pred, paths, cutoff, target)\u001b[0m\n\u001b[1;32m    852\u001b[0m push(fringe, (vu_dist, \u001b[39mnext\u001b[39m(c), u))\n\u001b[1;32m    853\u001b[0m \u001b[39mif\u001b[39;00m paths \u001b[39mis\u001b[39;00m \u001b[39mnot\u001b[39;00m \u001b[39mNone\u001b[39;00m:\n\u001b[0;32m--> 854\u001b[0m     paths[u] \u001b[39m=\u001b[39m paths[v] \u001b[39m+\u001b[39m [u]\n\u001b[1;32m    855\u001b[0m \u001b[39mif\u001b[39;00m pred \u001b[39mis\u001b[39;00m \u001b[39mnot\u001b[39;00m \u001b[39mNone\u001b[39;00m:\n\u001b[1;32m    856\u001b[0m     pred[u] \u001b[39m=\u001b[39m [v]\n",
      "\u001b[0;31mKeyboardInterrupt\u001b[0m: "
     ]
    }
   ],
   "source": [
    "from trajectory_predictor.utils.mapping import pixel_graph_to_spanning_tree_and_missing_links, missing_links_and_tree_to_bigger_loop\n",
    "\n",
    "nodes = graph.get_nodes()\n",
    "visited_nodes = set()\n",
    "\n",
    "paths = []\n",
    "\n",
    "for node in nodes:\n",
    "    if node in visited_nodes:\n",
    "        continue\n",
    "    pg, links = pixel_graph_to_spanning_tree_and_missing_links(graph, node)\n",
    "    if len(pg.nodes) < 100:\n",
    "        continue\n",
    "    [visited_nodes.add(node) for node in pg.nodes]\n",
    "\n",
    "    path = missing_links_and_tree_to_centerline(links, pg)\n",
    "    print(len(pg.nodes))\n",
    "    paths.append(path)\n",
    "    "
   ]
  },
  {
   "cell_type": "code",
   "execution_count": 12,
   "metadata": {},
   "outputs": [],
   "source": [
    "def path_to_filled_image(path):\n",
    "    crop_weak = np.zeros_like(crop)\n",
    "    two_d_indexes = np.unravel_index(path, crop.shape)\n",
    "    arr = np.array(two_d_indexes).T\n",
    "    arr[:, 0], arr[:, 1] = arr[:, 1].copy(), arr[:, 0].copy()\n",
    "    cv2.fillPoly(crop_weak, pts=[arr], color=255)\n",
    "    return crop_weak\n",
    "path_filled_images = [path_to_filled_image(path) for path in paths]"
   ]
  },
  {
   "cell_type": "code",
   "execution_count": 31,
   "metadata": {},
   "outputs": [
    {
     "name": "stdout",
     "output_type": "stream",
     "text": [
      "heer\n"
     ]
    },
    {
     "data": {
      "text/plain": [
       "<matplotlib.image.AxesImage at 0x7fe79c407a30>"
      ]
     },
     "execution_count": 31,
     "metadata": {},
     "output_type": "execute_result"
    },
    {
     "data": {
      "image/png": "[encoded data removed]",
      "text/plain": [
       "<Figure size 432x288 with 1 Axes>"
      ]
     },
     "metadata": {
      "needs_background": "light"
     },
     "output_type": "display_data"
    }
   ],
   "source": [
    "def simplify_images(images):\n",
    "    # compare each pair of images\n",
    "    # if they are similar, merge them\n",
    "    # if they are different, keep them separate\n",
    "\n",
    "    image_set = []\n",
    "    print(\"heer\")\n",
    "    for image in images:\n",
    "        found_close_image = False\n",
    "        for i in range(len(image_set)):\n",
    "            image_set_item = image_set[i]\n",
    "            if np.sum(image != image_set_item) < 1000:\n",
    "                found_close_image = True\n",
    "                image[image != image_set_item] = 0\n",
    "                image_set[i] = image\n",
    "        if not found_close_image:\n",
    "            image_set.append(image)\n",
    "    return image_set\n",
    "s = simplify_images(path_filled_images)\n",
    "plt.imshow(s[0]-s[1], cmap='gray')"
   ]
  },
  {
   "cell_type": "code",
   "execution_count": 31,
   "metadata": {},
   "outputs": [
    {
     "name": "stdout",
     "output_type": "stream",
     "text": [
      "197\n",
      "239\n",
      "156\n",
      "188\n",
      "188\n",
      "188\n",
      "188\n"
     ]
    },
    {
     "data": {
      "image/png": "[encoded data removed]",
      "text/plain": [
       "<Figure size 720x720 with 7 Axes>"
      ]
     },
     "metadata": {
      "needs_background": "light"
     },
     "output_type": "display_data"
    }
   ],
   "source": [
    "\n",
    "# one ax fo each path\n",
    "def viz_pixels(ax, path):\n",
    "    path_nodes = np.array(path)\n",
    "    print(len(path_nodes))\n",
    "    unravelled_nodes = np.unravel_index(path_nodes, crop.shape)\n",
    "    selected_nodes = np.zeros_like(crop)\n",
    "    selected_nodes[unravelled_nodes] = 255\n",
    "    crop_weak = crop.copy()*0.3 + selected_nodes*0.7\n",
    "    # ax.imshow(crop_weak, cmap='gray')\n",
    "    two_d_indexes = np.unravel_index(path, crop.shape)\n",
    "    # print(np.array(two_d_indexes))\n",
    "    arr = np.array(two_d_indexes).T\n",
    "    arr[:, 0], arr[:, 1] = arr[:, 1].copy(), arr[:, 0].copy()\n",
    "    cv2.fillPoly(crop_weak, pts=[arr], color=(255, 255, 255))\n",
    "    ax.imshow(crop_weak, cmap='gray')\n",
    "\n",
    "fig, axs = plt.subplots(1, len(paths), figsize=(10, 10))\n",
    "for i, path in enumerate(paths):\n",
    "    viz_pixels(axs[i], path)\n",
    "    axs[i].set_title('Path {}'.format(i))\n",
    "    axs[i].axis('off')"
   ]
  },
  {
   "cell_type": "code",
   "execution_count": 17,
   "metadata": {},
   "outputs": [
    {
     "data": {
      "text/plain": [
       "<matplotlib.image.AxesImage at 0x7fc4fed783a0>"
      ]
     },
     "execution_count": 17,
     "metadata": {},
     "output_type": "execute_result"
    },
    {
     "data": {
      "image/png": "[encoded data removed]",
      "text/plain": [
       "<Figure size 432x288 with 1 Axes>"
      ]
     },
     "metadata": {
      "needs_background": "light"
     },
     "output_type": "display_data"
    }
   ],
   "source": [
    "crop_weak = crop.copy()*0.3 + selected_nodes*0.7\n",
    "two_d_indexes = np.unravel_index(path, crop.shape)\n",
    "# print(np.array(two_d_indexes))\n",
    "arr = np.array(two_d_indexes).T\n",
    "arr[:, 0], arr[:, 1] = arr[:, 1].copy(), arr[:, 0].copy()\n",
    "cv2.fillPoly(crop_weak, pts=[arr], color=(255, 255, 255))\n",
    "plt.imshow(crop_weak, cmap='gray')"
   ]
  }
 ],
 "metadata": {
  "kernelspec": {
   "display_name": "Python 3.8.13 ('lix')",
   "language": "python",
   "name": "python3"
  },
  "language_info": {
   "codemirror_mode": {
    "name": "ipython",
    "version": 3
   },
   "file_extension": ".py",
   "mimetype": "text/x-python",
   "name": "python",
   "nbconvert_exporter": "python",
   "pygments_lexer": "ipython3",
   "version": "3.8.13"
  },
  "orig_nbformat": 4,
  "vscode": {
   "interpreter": {
    "hash": "cf0bc47ab3e19869a565b1ba7b7f131fb5719f0f53183c217dfb606e854dfccd"
   }
  }
 },
 "nbformat": 4,
 "nbformat_minor": 2
}
